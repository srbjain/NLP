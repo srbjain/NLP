{
  "nbformat": 4,
  "nbformat_minor": 0,
  "metadata": {
    "colab": {
      "name": "fakenews.ipynb",
      "provenance": [],
      "collapsed_sections": []
    },
    "kernelspec": {
      "name": "python3",
      "display_name": "Python 3"
    },
    "accelerator": "GPU"
  },
  "cells": [
    {
      "cell_type": "code",
      "metadata": {
        "id": "HRXWMlQuxQIU",
        "colab_type": "code",
        "colab": {
          "base_uri": "https://localhost:8080/",
          "height": 51
        },
        "outputId": "1abad9de-1a28-4104-bdaf-b4db8c4796da"
      },
      "source": [
        "import pandas as pd\n",
        "import numpy as np\n",
        "import nltk\n",
        "nltk.download('stopwords')\n",
        "import re\n",
        "from nltk.corpus import stopwords"
      ],
      "execution_count": 24,
      "outputs": [
        {
          "output_type": "stream",
          "text": [
            "[nltk_data] Downloading package stopwords to /root/nltk_data...\n",
            "[nltk_data]   Package stopwords is already up-to-date!\n"
          ],
          "name": "stdout"
        }
      ]
    },
    {
      "cell_type": "markdown",
      "metadata": {
        "id": "uUTUk4dzKxsL",
        "colab_type": "text"
      },
      "source": [
        "Importing Data"
      ]
    },
    {
      "cell_type": "code",
      "metadata": {
        "id": "6LXNqzBPJxdM",
        "colab_type": "code",
        "colab": {}
      },
      "source": [
        "dataset_fake = pd.read_csv(\"sample_data/Fake.csv\")\n",
        "dataset_fake[\"label\"]=1\n",
        "dataset_true = pd.read_csv(\"sample_data/True.csv\")\n",
        "dataset_true[\"label\"]=0\n",
        "\n",
        "# Making a single dataset with random inputs\n",
        "dataset = pd.concat((dataset_fake,dataset_true), axis=0)\n",
        "dataset = dataset.sample(frac=1).reset_index(drop=True)\n",
        "\n",
        "X = dataset.title\n",
        "y = dataset.label"
      ],
      "execution_count": 25,
      "outputs": []
    },
    {
      "cell_type": "markdown",
      "metadata": {
        "id": "Xx5oeqAUKrUC",
        "colab_type": "text"
      },
      "source": [
        "Data Preprocessing"
      ]
    },
    {
      "cell_type": "code",
      "metadata": {
        "id": "pmILuzmfx4w6",
        "colab_type": "code",
        "colab": {}
      },
      "source": [
        "from nltk.stem.porter import PorterStemmer\n",
        "ps = PorterStemmer()\n",
        "\n",
        "corpus = []\n",
        "for i in range(len(X)):\n",
        "    news = re.sub( \"[^a-zA-Z]\",\" \",X[i])\n",
        "    news = news.lower()\n",
        "    news = news.split()\n",
        "    sub_corpus = [ps.stem(word) for word in news if not word in stopwords.words(\"english\")]\n",
        "    sub_corpus = \" \".join(sub_corpus)\n",
        "    corpus.append(sub_corpus)"
      ],
      "execution_count": 26,
      "outputs": []
    },
    {
      "cell_type": "markdown",
      "metadata": {
        "id": "8oV0ICVHK3Xg",
        "colab_type": "text"
      },
      "source": [
        "Model Creation"
      ]
    },
    {
      "cell_type": "code",
      "metadata": {
        "id": "RM8JrQZ1xxDo",
        "colab_type": "code",
        "colab": {}
      },
      "source": [
        "from tensorflow.keras.layers import Dense\n",
        "from tensorflow.keras.layers import LSTM\n",
        "from tensorflow.keras.layers import Embedding\n",
        "from tensorflow.keras.layers import Dropout\n",
        "from tensorflow.keras.models import Sequential\n",
        "from tensorflow.keras.preprocessing.sequence import pad_sequences\n",
        "from tensorflow.keras.preprocessing.text import one_hot"
      ],
      "execution_count": 27,
      "outputs": []
    },
    {
      "cell_type": "code",
      "metadata": {
        "id": "XS6xRZLEJ5Bc",
        "colab_type": "code",
        "colab": {}
      },
      "source": [
        "input_len = 1000\n",
        "oh = [one_hot(word, input_len) for word in corpus]"
      ],
      "execution_count": 28,
      "outputs": []
    },
    {
      "cell_type": "code",
      "metadata": {
        "id": "U7KOeUxoJ5IX",
        "colab_type": "code",
        "colab": {}
      },
      "source": [
        "ohp = pad_sequences(oh, padding = \"post\")\n",
        "sent_len = len(ohp[0])"
      ],
      "execution_count": 29,
      "outputs": []
    },
    {
      "cell_type": "code",
      "metadata": {
        "id": "KxfRN-FAxa39",
        "colab_type": "code",
        "colab": {
          "base_uri": "https://localhost:8080/",
          "height": 340
        },
        "outputId": "61f49964-d0d4-4d29-af85-f906c7aa3218"
      },
      "source": [
        "output_len = 50\n",
        "model = Sequential()\n",
        "model.add(Embedding(input_len, output_len, input_length=sent_len))\n",
        "model.add(Dropout(0.3))\n",
        "model.add(LSTM(100))\n",
        "model.add(Dropout(0.3))\n",
        "model.add(Dense(1, activation=\"sigmoid\"))\n",
        "model.compile(optimizer=\"adam\", loss=\"binary_crossentropy\", metrics=[\"accuracy\"])\n",
        "print(model.summary())"
      ],
      "execution_count": 30,
      "outputs": [
        {
          "output_type": "stream",
          "text": [
            "Model: \"sequential_2\"\n",
            "_________________________________________________________________\n",
            "Layer (type)                 Output Shape              Param #   \n",
            "=================================================================\n",
            "embedding_2 (Embedding)      (None, 35, 50)            50000     \n",
            "_________________________________________________________________\n",
            "dropout_2 (Dropout)          (None, 35, 50)            0         \n",
            "_________________________________________________________________\n",
            "lstm_2 (LSTM)                (None, 100)               60400     \n",
            "_________________________________________________________________\n",
            "dropout_3 (Dropout)          (None, 100)               0         \n",
            "_________________________________________________________________\n",
            "dense_2 (Dense)              (None, 1)                 101       \n",
            "=================================================================\n",
            "Total params: 110,501\n",
            "Trainable params: 110,501\n",
            "Non-trainable params: 0\n",
            "_________________________________________________________________\n",
            "None\n"
          ],
          "name": "stdout"
        }
      ]
    },
    {
      "cell_type": "markdown",
      "metadata": {
        "id": "H9BJ16uNLDm1",
        "colab_type": "text"
      },
      "source": [
        "Data Training"
      ]
    },
    {
      "cell_type": "code",
      "metadata": {
        "id": "EwSZ-vngxa8B",
        "colab_type": "code",
        "colab": {}
      },
      "source": [
        "X_final = np.array(ohp)\n",
        "y_final = np.array(y)\n",
        "\n",
        "from sklearn.model_selection import train_test_split\n",
        "X_train, X_test, y_train, y_test = train_test_split(X_final, y_final, test_size =0.2, random_state=20)"
      ],
      "execution_count": 31,
      "outputs": []
    },
    {
      "cell_type": "code",
      "metadata": {
        "id": "awPLfIHyxXX5",
        "colab_type": "code",
        "colab": {
          "base_uri": "https://localhost:8080/",
          "height": 377
        },
        "outputId": "d6a4f027-8c60-496e-bc07-f72ee9092a82"
      },
      "source": [
        "model.fit(X_train,y_train,validation_data=(X_test,y_test), epochs=10, batch_size=64)\n",
        "y_pred = model.predict_classes(X_test)"
      ],
      "execution_count": 32,
      "outputs": [
        {
          "output_type": "stream",
          "text": [
            "Epoch 1/10\n",
            "562/562 [==============================] - 4s 8ms/step - loss: 0.3255 - accuracy: 0.8487 - val_loss: 0.2684 - val_accuracy: 0.8928\n",
            "Epoch 2/10\n",
            "562/562 [==============================] - 4s 7ms/step - loss: 0.2468 - accuracy: 0.8991 - val_loss: 0.2468 - val_accuracy: 0.8979\n",
            "Epoch 3/10\n",
            "562/562 [==============================] - 4s 7ms/step - loss: 0.2256 - accuracy: 0.9056 - val_loss: 0.2279 - val_accuracy: 0.9056\n",
            "Epoch 4/10\n",
            "562/562 [==============================] - 4s 7ms/step - loss: 0.2097 - accuracy: 0.9126 - val_loss: 0.2409 - val_accuracy: 0.8899\n",
            "Epoch 5/10\n",
            "562/562 [==============================] - 4s 7ms/step - loss: 0.2031 - accuracy: 0.9144 - val_loss: 0.2253 - val_accuracy: 0.9024\n",
            "Epoch 6/10\n",
            "562/562 [==============================] - 4s 7ms/step - loss: 0.1915 - accuracy: 0.9182 - val_loss: 0.2191 - val_accuracy: 0.9156\n",
            "Epoch 7/10\n",
            "562/562 [==============================] - 4s 7ms/step - loss: 0.1805 - accuracy: 0.9237 - val_loss: 0.2041 - val_accuracy: 0.9198\n",
            "Epoch 8/10\n",
            "562/562 [==============================] - 4s 7ms/step - loss: 0.1709 - accuracy: 0.9283 - val_loss: 0.2150 - val_accuracy: 0.9139\n",
            "Epoch 9/10\n",
            "562/562 [==============================] - 4s 7ms/step - loss: 0.1635 - accuracy: 0.9314 - val_loss: 0.2079 - val_accuracy: 0.9202\n",
            "Epoch 10/10\n",
            "562/562 [==============================] - 4s 7ms/step - loss: 0.1575 - accuracy: 0.9339 - val_loss: 0.2111 - val_accuracy: 0.9166\n"
          ],
          "name": "stdout"
        }
      ]
    },
    {
      "cell_type": "markdown",
      "metadata": {
        "id": "k5Btsw78LKJV",
        "colab_type": "text"
      },
      "source": [
        "Model Analysis"
      ]
    },
    {
      "cell_type": "code",
      "metadata": {
        "id": "7qHixIEkCT5z",
        "colab_type": "code",
        "colab": {
          "base_uri": "https://localhost:8080/",
          "height": 51
        },
        "outputId": "b3bf282c-bf33-40a1-f6d6-c28aa701d54b"
      },
      "source": [
        "from sklearn.metrics import confusion_matrix\n",
        "confusion_matrix(y_test,y_pred)"
      ],
      "execution_count": 33,
      "outputs": [
        {
          "output_type": "execute_result",
          "data": {
            "text/plain": [
              "array([[3985,  232],\n",
              "       [ 517, 4246]])"
            ]
          },
          "metadata": {
            "tags": []
          },
          "execution_count": 33
        }
      ]
    },
    {
      "cell_type": "code",
      "metadata": {
        "id": "r5nfLXb2Ci6w",
        "colab_type": "code",
        "colab": {
          "base_uri": "https://localhost:8080/",
          "height": 34
        },
        "outputId": "0071b224-33be-4a86-b698-e92377f3f720"
      },
      "source": [
        "from sklearn.metrics import accuracy_score\n",
        "accuracy_score(y_test,y_pred)"
      ],
      "execution_count": 34,
      "outputs": [
        {
          "output_type": "execute_result",
          "data": {
            "text/plain": [
              "0.9165924276169265"
            ]
          },
          "metadata": {
            "tags": []
          },
          "execution_count": 34
        }
      ]
    }
  ]
}